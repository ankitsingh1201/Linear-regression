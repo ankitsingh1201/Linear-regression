{
 "cells": [
  {
   "cell_type": "code",
   "execution_count": 13,
   "metadata": {
    "collapsed": false
   },
   "outputs": [
    {
     "name": "stdout",
     "output_type": "stream",
     "text": [
      "Counter({'in': 36, 'the': 34, 'to': 33, 'of': 31, 'that': 22, 'is': 20, 'a': 15, 'be': 15, 'divorce': 13, 'and': 12, 'marital': 11, 'for': 10, 'changes': 10, 'this': 9, 'has': 8, 'have': 8, 'social': 7, 'would': 7, 'more': 6, 'these': 6, 'explanation': 6, 'It': 6, 'are': 6, 'it': 5, 'This': 5, 'one': 5, 'however,': 5, 'Hart': 5, 'economic': 5, 'family': 4, 'only': 4, 'been': 4, 'families': 4, 'all': 4, 'on': 4, 'solution': 4, 'as': 4, 'change': 3, 'an': 3, 'increased': 3, 'become': 3, 'For': 3, 'than': 3, 'problems': 3, 'explanations': 3, 'with': 3, 'type': 3, 'laws': 3, 'example,': 3, 'rates': 3, 'not': 3, 'legal': 3, 'breakdown': 3, 'which': 3, 'suggests': 3, 'conflict': 3, 'cases': 3, 'A': 2, 'recent': 2, 'borne': 2, 'out': 2, 'example': 2, 'years': 2, 'consequence': 2, 'number': 2, 'why': 2, 'In': 2, 'will': 2, 'also': 2, 'consider': 2, 'implications': 2, 'argued': 2, 'best': 2, 'broad': 2, 'One': 2, 'they': 2, 'suggest': 2, 'because': 2, 'Bilton': 2, 'et': 2, 'al.': 2, 'can': 2, 'system.': 2, 'The': 2, 'problem': 2, 'first': 2, 'could': 2, 'fundamental': 2, 'society.': 2, '(cited': 2, 'Haralambos,': 2, 'result': 2, 'both': 2, 'two': 2, 'roles': 2, 'lead': 2, 'cause': 2, 'appear': 2, 'cannot': 2, 'where': 2, 'approach,': 2, 'seem': 2, 'at': 2, 'how': 2, 'increasing': 2, 'might': 2, 'way': 2, 'welfare': 2, 'some': 2, 'from': 2, 'little': 2, 'families.': 2, 'major': 1, 'occurred': 1, 'Western': 1, 'incidence': 1, 'divorce.': 1, 'Whereas': 1, 'past,': 1, 'was': 1, 'relatively': 1, 'rare': 1, 'occurrence,': 1, 'times': 1, 'quite': 1, 'commonplace.': 1, 'clearly': 1, 'census': 1, 'figures.': 1, 'thirty': 1, 'ago': 1, 'Australia,': 1, 'marriage': 1, 'ten': 1, 'ended': 1, 'divorce;': 1, 'nowadays': 1, 'figure': 1, 'three': 1, '(Australian': 1, 'Bureau': 1, 'Statistics,': 1, '1996:': 1, 'p.45).': 1, 'substantial': 1, 'increase': 1, 'single': 1, 'parent': 1, 'attendant': 1, 'brings': 1, '(Kilmartin,': 1, '1997).': 1, 'An': 1, 'important': 1, 'issue': 1, 'sociologists,': 1, 'indeed': 1, 'society,': 1, 'patterns': 1, 'occurred.': 1, 'essay': 1, 'I': 1, 'seek': 1, 'critically': 1, 'examine': 1, 'sociological': 1, \"'divorce\": 1, \"phenomenon'\": 1, 'policy': 1, 'each': 1, 'carries': 1, 'it.': 1, 'found': 1, 'within': 1, 'socio-economic': 1, 'framework.': 1, 'rising': 1, 'focused': 1, 'relating': 1, 'marriage.': 1, 'Bilton,': 1, 'Bonnett': 1, 'Jones': 1, '(1987)': 1, 'argue': 1, 'do': 1, 'necessarily': 1, 'indicate': 1, 'now': 1, 'unstable.': 1, 'possible,': 1, 'claim,': 1, 'there': 1, 'always': 1, 'degree': 1, 'instability.': 1, 'They': 1, 'law': 1, 'significant,': 1, 'provided': 1, 'unhappily': 1, 'married': 1, 'couples': 1, \"'access\": 1, 'pre-existent': 1, \"problems'\": 1, '(p.301).': 1, 'therefore': 1, 'believe': 1, 'explained': 1, 'terms': 1, 'does': 1, 'changed': 1, 'place.': 1, 'reforms': 1, 'law,': 1, 'well': 1, 'rate': 1, 'accompanied': 1, 'them,': 1, 'product': 1, 'Another': 1, 'focuses': 1, 'precisely': 1, 'societal': 1, 'changes.': 1, 'Nicky': 1, '1995)': 1, 'argues': 1, 'increases': 1, 'affected': 1, 'family.': 1, 'raised': 1, 'material': 1, 'aspirations': 1, 'families,': 1, 'put': 1, 'pressure': 1, 'spouses': 1, 'wage': 1, 'earners.': 1, 'Women': 1, 'forced': 1, 'homemakers': 1, 'providers.': 1, 'According': 1, 'Hart,': 1, 'contradiction': 1, 'main': 1, 'breakdown.': 1, \"Hart's\": 1, 'account': 1, '-': 1, 'liable': 1, 'occur': 1, 'husband': 1, 'working.': 1, 'Nevertheless,': 1, 'her': 1, 'relate': 1, 'relations': 1, 'broader': 1, 'forces,': 1, 'probing': 1, 'looks': 1, 'legislative': 1, 'change.': 1, 'described': 1, 'above': 1, 'very': 1, 'different': 1, 'policy,': 1, 'especially': 1, 'relation': 1, 'instability': 1, 'dealt': 1, 'with.': 1, '(1995)': 1, 'offer': 1, 'hence': 1, 'see': 1, 'solutions': 1, 'being': 1, 'determined': 1, 'domain.': 1, 'If': 1, 'rises': 1, 'thought': 1, 'liberal': 1, 'laws,': 1, 'obvious': 1, 'stem': 1, 'rise': 1, 'make': 1, 'them': 1, 'less': 1, 'obtainable.': 1, 'imagines,': 1, 'reduction': 1, 'statistics;': 1, 'really': 1, 'held': 1, 'up': 1, 'genuine': 1, 'stress': 1, 'Indeed': 1, 'directed': 1, 'symptoms': 1, 'addressing': 1, 'causes.': 1, 'Furthermore,': 1, 'experience': 1, 'workers,': 1, 'working': 1, 'area': 1, 'restricting': 1, \"couple's\": 1, 'access': 1, 'serve': 1, 'exacerbate': 1, 'existing': 1, '(Johnson,': 1, '1981).': 1, 'those': 1, 'violence': 1, 'involved,': 1, 'consequences': 1, 'tragic.': 1, 'Apart': 1, 'this,': 1, 'returning': 1, 'restrictive': 1, 'seems': 1, 'favoured': 1, 'by': 1, 'Australians.': 1, '(Harrison,': 1, '1990).': 1, '1995),': 1, 'writing': 1, 'Marxist-feminist': 1, 'position,': 1, 'traces': 1, 'capitalist': 1, 'system': 1, 'their': 1, 'resultant': 1, 'effect': 1, 'men': 1, 'women.': 1, 'difficult': 1, 'know': 1, 'such': 1, 'analysis': 1, 'translated': 1, 'into': 1, 'practical': 1, 'policies.': 1, 'program': 1, 'require': 1, 'place': 1, 'radical': 1, 'restructuring': 1, 'Whilst': 1, 'may': 1, 'desirable': 1, 'some,': 1, 'achievable': 1, 'present': 1, 'political': 1, 'climate.': 1, 'right': 1, 'much': 1, 'linked': 1, 'circumstances': 1, 'many': 1, 'statistical': 1, 'surveys': 1, 'show': 1, 'consistently': 1, 'higher': 1, 'among': 1, 'socially': 1, 'disadvantaged': 1, '(McDonald,': 1, '1993).': 1, 'situation': 1, 'then': 1, 'policies': 1, 'need': 1, 'geared': 1, 'providing': 1, 'support': 1, 'security': 1, 'types': 1, 'optimism': 1, 'governments': 1, 'persuasions': 1, 'shown': 1, 'reluctance': 1, 'fund': 1, 'programs': 1, 'kind.': 1})\n"
     ]
    }
   ],
   "source": [
    "#WORD COUNT PROGRAM\n",
    "file = open(r\"xyz.txt\", \"r\")#read the file \n",
    "from collections import Counter\n",
    "wordcount = Counter(file.read().split()) #using counters from collections. Split between space.\n",
    "print(wordcount)\n",
    "\n",
    "   \n",
    "    \n",
    "\n",
    "    \n"
   ]
  },
  {
   "cell_type": "code",
   "execution_count": 56,
   "metadata": {
    "collapsed": false
   },
   "outputs": [
    {
     "name": "stdout",
     "output_type": "stream",
     "text": [
      "20.1961508183\n",
      "2.51456329197\n"
     ]
    },
    {
     "data": {
      "image/png": "[encoded data removed]",
      "text/plain": [
       "<matplotlib.figure.Figure at 0x7fd50f4aacf8>"
      ]
     },
     "metadata": {},
     "output_type": "display_data"
    }
   ],
   "source": [
    "# NUMPY\n",
    "import numpy as np\n",
    "A = np.random.rand(100,20) #random matrix of size 100*20\n",
    "mu = 2   \n",
    "sigma = 0.01\n",
    "V = np.random.normal(mu,sigma,20) #distributing data normally with given mu and sigma\n",
    "c = np.dot(A,V) \n",
    "#print(c)\n",
    "\n",
    "mean = np.mean(c)  #mean\n",
    "std = np.std(c) # standard deviation\n",
    "print (mean)\n",
    "print(std)\n",
    "import matplotlib.pyplot as plt\n",
    "histogram= plt.hist(c, bins=5)   #plot histogram with 5 bins\n",
    "plt.show(histogram)"
   ]
  },
  {
   "cell_type": "code",
   "execution_count": 238,
   "metadata": {
    "collapsed": false
   },
   "outputs": [
    {
     "name": "stdout",
     "output_type": "stream",
     "text": [
      "0.0116423447313\n",
      "1.97707376494\n"
     ]
    },
    {
     "data": {
      "image/png": "[encoded data removed]",
      "text/plain": [
       "<matplotlib.figure.Figure at 0x7ff3006b8278>"
      ]
     },
     "metadata": {},
     "output_type": "display_data"
    }
   ],
   "source": [
    "import numpy as np  \n",
    "import matplotlib.pyplot as plt\n",
    "import math\n",
    "A = np.random.normal(loc=2,scale=0.01,size=(100,2))  #generates random matrix of size 100*2 with normal distribution\n",
    "x= []    #future train dataset array\n",
    "y= []    #future dependent variable array \n",
    "for i in range(100):     \n",
    "    \n",
    "    x.append(A[i,0])    #selecting x values from A and append to array x\n",
    "    y.append(A[i,1])    #selecting y values from A and append to array y\n",
    "    \n",
    "X_mean = np.mean(x)     #step 2 from algorithm at slide 18\n",
    "Y_mean = np.mean(y)     #step 3 \n",
    "\n",
    "num = [] \n",
    "for j in range(100):      #loop to calculate the numerator part of step 4\n",
    "    product=((x[j]-X_mean)*(y[j]-Y_mean))       #(X-Xn)(Y-Yn)\n",
    "    num.append(product)\n",
    "numerator = np.sum(num)    #summation of (X-Xn)(Y-Yn)\n",
    "\n",
    "den = []                # loop to calculate the denominator of step 4\n",
    "for j in range (100):\n",
    "    sqaured = math.pow((x[j]-X_mean),2)  #(X-Xn)**2\n",
    "    den.append(sqaured)\n",
    "denominator = np.sum(den)     #summation of (X-Xn)**2\n",
    "\n",
    "Beta1 = numerator/denominator   # calculation of beta1\n",
    " \n",
    "Beta0 = Y_mean - (Beta1*X_mean)   #calculation of beta0\n",
    "\n",
    "print(Beta1)\n",
    "print(Beta0)\n",
    "\n",
    "        \n",
    "def predict(value):     #function to implement regression equations by estimated beta1 and beta0\n",
    "    EstimatedY = Beta0 + (Beta1*value)\n",
    "    return EstimatedY\n",
    "\n",
    "predictedY = []\n",
    "for i in range(100):    #loop to calculate all predicted values of y using given x values from matrix A\n",
    "    \n",
    "    \n",
    "    predictions = predict(x[i])\n",
    "    predictedY.append(predictions)\n",
    "    \n",
    "\n",
    "#sortedX = np.sort(x) \n",
    "#plt.gca().set_color_cycle(['red'])\n",
    "\n",
    " \n",
    "#plt.plot(sortedX,y)\n",
    "plt.xlabel('Train data')\n",
    "plt.ylabel('Dependent variable')\n",
    "\n",
    "plt.scatter(x,y)\n",
    "plt.plot(x, predictedY)\n",
    "plt.legend(['regression line','train data scatter'],loc='upper left')\n",
    "\n",
    "\n",
    "plt.show()\n",
    "    \n",
    "    \n"
   ]
  },
  {
   "cell_type": "code",
   "execution_count": 236,
   "metadata": {
    "collapsed": false
   },
   "outputs": [
    {
     "name": "stdout",
     "output_type": "stream",
     "text": [
      "0.124155635753 1.75315176933\n"
     ]
    }
   ],
   "source": [
    "#using numpy.linalg.lstq\n",
    "t = np.vstack((x,np.ones(len(x))))#takes only one argument thus check brackets\n",
    "a = np.transpose(t)\n",
    "b1,b0=np.linalg.lstsq(a,y)[0]   \n",
    "print(b1,b0)\n",
    "\n"
   ]
  },
  {
   "cell_type": "code",
   "execution_count": null,
   "metadata": {
    "collapsed": true
   },
   "outputs": [],
   "source": []
  }
 ],
 "metadata": {
  "kernelspec": {
   "display_name": "Python 3",
   "language": "python",
   "name": "python3"
  },
  "language_info": {
   "codemirror_mode": {
    "name": "ipython",
    "version": 3
   },
   "file_extension": ".py",
   "mimetype": "text/x-python",
   "name": "python",
   "nbconvert_exporter": "python",
   "pygments_lexer": "ipython3",
   "version": "3.6.0"
  }
 },
 "nbformat": 4,
 "nbformat_minor": 2
}
